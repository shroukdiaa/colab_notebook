{
  "nbformat": 4,
  "nbformat_minor": 0,
  "metadata": {
    "colab": {
      "private_outputs": true,
      "provenance": [],
      "authorship_tag": "ABX9TyP+HKFErtax4mkrmH8cfgWJ",
      "include_colab_link": true
    },
    "kernelspec": {
      "name": "python3",
      "display_name": "Python 3"
    },
    "language_info": {
      "name": "python"
    }
  },
  "cells": [
    {
      "cell_type": "markdown",
      "metadata": {
        "id": "view-in-github",
        "colab_type": "text"
      },
      "source": [
        "<a href=\"https://colab.research.google.com/github/shroukdiaa/colab_notebook/blob/main/task1_ML.ipynb\" target=\"_parent\"><img src=\"https://colab.research.google.com/assets/colab-badge.svg\" alt=\"Open In Colab\"/></a>"
      ]
    },
    {
      "cell_type": "markdown",
      "source": [
        "# **1- Import library**"
      ],
      "metadata": {
        "id": "TrGAYSmjDrrk"
      }
    },
    {
      "cell_type": "code",
      "execution_count": null,
      "metadata": {
        "id": "F_PgqlSFCvSb"
      },
      "outputs": [],
      "source": [
        "import pandas as pd  # pandas for data manipulation.\n",
        "import numpy as np  # numpy for numerical computations.\n",
        "import matplotlib.pyplot as plt  # matplotlib or seaborn for visualization.\n",
        "from sklearn.linear_model import LinearRegression\n",
        "# scikit-learn for building and evaluating the regression model."
      ]
    },
    {
      "cell_type": "markdown",
      "source": [
        "# **2- Load the Dataset**"
      ],
      "metadata": {
        "id": "Xj_KDHCyDdYv"
      }
    },
    {
      "cell_type": "code",
      "source": [
        "# Load the dataset\n",
        "data = pd.read_csv('/canada_per_capita_income.csv')\n",
        "\n",
        "# Inspect the dataset\n",
        "print(data.head())\n"
      ],
      "metadata": {
        "id": "0PGkQAdnDcvc"
      },
      "execution_count": null,
      "outputs": []
    },
    {
      "cell_type": "code",
      "source": [
        "print(data.columns)"
      ],
      "metadata": {
        "id": "VFKntZqSFOVx"
      },
      "execution_count": null,
      "outputs": []
    },
    {
      "cell_type": "markdown",
      "source": [
        "# **3-  Visualize the Data**"
      ],
      "metadata": {
        "id": "NXdSW3ZOEkXX"
      }
    },
    {
      "cell_type": "code",
      "source": [
        "plt.scatter(data['year'], data[data.columns[1]])\n",
        "plt.xlabel('Year')\n",
        "plt.ylabel('Per Capita Income')\n",
        "plt.title('Canada Per Capita Income Over the Years')\n",
        "plt.show()\n"
      ],
      "metadata": {
        "id": "nJW9g3s7DcsE"
      },
      "execution_count": null,
      "outputs": []
    },
    {
      "cell_type": "markdown",
      "source": [
        "# **4. Prepare the Data for the Model**"
      ],
      "metadata": {
        "id": "KGdNvEC7f_Pw"
      }
    },
    {
      "cell_type": "code",
      "source": [
        "# Independent variable (X): year\n",
        "X = data[['year']]\n",
        "\n",
        "# Dependent variable (y): per capita income\n",
        "y = data[data.columns[1]]\n"
      ],
      "metadata": {
        "id": "F0SAl9b7DcpT"
      },
      "execution_count": null,
      "outputs": []
    },
    {
      "cell_type": "markdown",
      "source": [
        "# **5. Build the Linear Regression Model**"
      ],
      "metadata": {
        "id": "yxsVOjkAgNJy"
      }
    },
    {
      "cell_type": "code",
      "source": [
        "# Create a linear regression model\n",
        "model = LinearRegression()\n",
        "\n",
        "# Train the model using the dataset\n",
        "model.fit(X, y)\n"
      ],
      "metadata": {
        "id": "CnCLH1HnDcmg"
      },
      "execution_count": null,
      "outputs": []
    },
    {
      "cell_type": "markdown",
      "source": [
        "# **6. Predict for the Year 2020**"
      ],
      "metadata": {
        "id": "Zxm-1D8DgnDU"
      }
    },
    {
      "cell_type": "code",
      "source": [
        "# Predict the per capita income for 2020\n",
        "income_2020 = model.predict([[2020]])\n",
        "print(f\"Predicted per capita income for 2020: {income_2020[0]}\")\n"
      ],
      "metadata": {
        "id": "LGfY8LDQDcjb"
      },
      "execution_count": null,
      "outputs": []
    },
    {
      "cell_type": "markdown",
      "source": [
        "# **7. Plot the Regression Line**"
      ],
      "metadata": {
        "id": "BKH9c_NYg19A"
      }
    },
    {
      "cell_type": "code",
      "source": [
        "# Plot data points\n",
        "plt.scatter(X, y, color='blue')\n",
        "\n",
        "# Plot the regression line\n",
        "plt.plot(X, model.predict(X), color='red')\n",
        "\n",
        "plt.xlabel('Year')\n",
        "plt.ylabel('Per Capita Income')\n",
        "plt.title('Linear Regression for Canada Per Capita Income')\n",
        "plt.show()\n"
      ],
      "metadata": {
        "id": "l6nnNzSoDcgm"
      },
      "execution_count": null,
      "outputs": []
    },
    {
      "cell_type": "markdown",
      "source": [
        "# **8. Evaluate the Model (Optional)**"
      ],
      "metadata": {
        "id": "Pk387zahg7oO"
      }
    },
    {
      "cell_type": "code",
      "source": [
        "# Get the R² score\n",
        "r_squared = model.score(X, y)\n",
        "print(f\"R² score: {r_squared}\")\n"
      ],
      "metadata": {
        "id": "CxoEfHGdg9bD"
      },
      "execution_count": null,
      "outputs": []
    },
    {
      "cell_type": "markdown",
      "source": [
        "# **Summary of Steps:**\n",
        "\n",
        "---\n",
        "1.   Import necessary libraries.\n",
        "2.   Load and inspect the dataset.\n",
        "3.  Visualize the data.\n",
        "4. Prepare the data by splitting it into X and y.\n",
        "5. Train a linear regression model.\n",
        "6. Predict the value for 2020.\n",
        "7.  Plot the regression line.\n",
        "8. (Optional) Evaluate the model's performance.\n",
        "\n",
        "\n",
        "\n",
        "\n",
        "\n",
        "\n"
      ],
      "metadata": {
        "id": "zzE54btLg-A-"
      }
    },
    {
      "cell_type": "code",
      "source": [],
      "metadata": {
        "id": "z6d9JQHzg-iy"
      },
      "execution_count": null,
      "outputs": []
    }
  ]
}