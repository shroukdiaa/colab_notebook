{
  "nbformat": 4,
  "nbformat_minor": 0,
  "metadata": {
    "colab": {
      "private_outputs": true,
      "provenance": [],
      "include_colab_link": true
    },
    "kernelspec": {
      "name": "python3",
      "display_name": "Python 3"
    },
    "language_info": {
      "name": "python"
    }
  },
  "cells": [
    {
      "cell_type": "markdown",
      "metadata": {
        "id": "view-in-github",
        "colab_type": "text"
      },
      "source": [
        "<a href=\"https://colab.research.google.com/github/shroukdiaa/colab_notebook/blob/main/task1_ML.ipynb\" target=\"_parent\"><img src=\"https://colab.research.google.com/assets/colab-badge.svg\" alt=\"Open In Colab\"/></a>"
      ]
    },
    {
      "cell_type": "markdown",
      "source": [
        "# **1- Import library**"
      ],
      "metadata": {
        "id": "TrGAYSmjDrrk"
      }
    },
    {
      "cell_type": "code",
      "execution_count": null,
      "metadata": {
        "id": "F_PgqlSFCvSb"
      },
      "outputs": [],
      "source": [
        "import pandas as pd  # pandas for data manipulation.\n",
        "import numpy as np  # numpy for numerical computations.\n",
        "import matplotlib.pyplot as plt  # matplotlib or seaborn for visualization.\n",
        "from sklearn.linear_model import LinearRegression\n",
        "# scikit-learn for building and evaluating the regression mode"
      ]
    },
    {
      "cell_type": "markdown",
      "source": [
        "# **2- Load the Dataset**"
      ],
      "metadata": {
        "id": "Xj_KDHCyDdYv"
      }
    },
    {
      "cell_type": "code",
      "source": [
        "# Load the dataset\n",
        "data = pd.read_csv('/content/canada_per_capita_income.csv')\n",
        "\n",
        "# Inspect the dataset\n",
        "print(data.head())\n"
      ],
      "metadata": {
        "id": "0PGkQAdnDcvc"
      },
      "execution_count": null,
      "outputs": []
    },
    {
      "cell_type": "code",
      "source": [
        "print(data.columns)"
      ],
      "metadata": {
        "id": "VFKntZqSFOVx"
      },
      "execution_count": null,
      "outputs": []
    },
    {
      "cell_type": "markdown",
      "source": [
        "# **3-  Visualize the Data**"
      ],
      "metadata": {
        "id": "NXdSW3ZOEkXX"
      }
    },
    {
      "cell_type": "code",
      "source": [
        "plt.scatter(data['year'], data[data.columns[1]])\n",
        "plt.xlabel('Year')\n",
        "plt.ylabel('Per Capita Income')\n",
        "plt.title('Canada Per Capita Income Over the Years')\n",
        "plt.show()\n"
      ],
      "metadata": {
        "id": "nJW9g3s7DcsE"
      },
      "execution_count": null,
      "outputs": []
    },
    {
      "cell_type": "markdown",
      "source": [
        "# **4. Prepare the Data for the Model**"
      ],
      "metadata": {
        "id": "KGdNvEC7f_Pw"
      }
    },
    {
      "cell_type": "code",
      "source": [
        "# Independent variable (X): year\n",
        "X = data[['year']]\n",
        "\n",
        "# Dependent variable (y): per capita income\n",
        "y = data[data.columns[1]]\n"
      ],
      "metadata": {
        "id": "F0SAl9b7DcpT"
      },
      "execution_count": null,
      "outputs": []
    },
    {
      "cell_type": "markdown",
      "source": [
        "# **5. Build the Linear Regression Model**"
      ],
      "metadata": {
        "id": "yxsVOjkAgNJy"
      }
    },
    {
      "cell_type": "code",
      "source": [
        "# Create a linear regression model\n",
        "model = LinearRegression()\n",
        "\n",
        "# Train the model using the dataset\n",
        "model.fit(X, y)\n"
      ],
      "metadata": {
        "id": "CnCLH1HnDcmg"
      },
      "execution_count": null,
      "outputs": []
    },
    {
      "cell_type": "markdown",
      "source": [
        "# **6. Predict for the Year 2020**"
      ],
      "metadata": {
        "id": "Zxm-1D8DgnDU"
      }
    },
    {
      "cell_type": "code",
      "source": [
        "# Predict the per capita income for 2020\n",
        "income_2020 = model.predict([[2020]])\n",
        "print(f\"Predicted per capita income for 2020: {income_2020[0]}\")\n"
      ],
      "metadata": {
        "id": "LGfY8LDQDcjb"
      },
      "execution_count": null,
      "outputs": []
    },
    {
      "cell_type": "markdown",
      "source": [
        "# **7. Plot the Regression Line**"
      ],
      "metadata": {
        "id": "BKH9c_NYg19A"
      }
    },
    {
      "cell_type": "code",
      "source": [
        "# Plot data points\n",
        "plt.scatter(X, y, color='blue')\n",
        "\n",
        "# Plot the regression line\n",
        "plt.plot(X, model.predict(X), color='red')\n",
        "\n",
        "plt.xlabel('Year')\n",
        "plt.ylabel('Per Capita Income')\n",
        "plt.title('Linear Regression for Canada Per Capita Income')\n",
        "plt.show()\n"
      ],
      "metadata": {
        "id": "l6nnNzSoDcgm"
      },
      "execution_count": null,
      "outputs": []
    },
    {
      "cell_type": "markdown",
      "source": [
        "# **8. Evaluate the Model (Optional)**"
      ],
      "metadata": {
        "id": "Pk387zahg7oO"
      }
    },
    {
      "cell_type": "code",
      "source": [
        "# Get the R² score\n",
        "r_squared = model.score(X, y)\n",
        "print(f\"R² score: {r_squared}\")\n"
      ],
      "metadata": {
        "id": "CxoEfHGdg9bD"
      },
      "execution_count": null,
      "outputs": []
    },
    {
      "cell_type": "markdown",
      "source": [
        "# **Summary of Steps:**\n",
        "\n",
        "---\n",
        "1.   Import necessary libraries.\n",
        "2.   Load and inspect the dataset.\n",
        "3.  Visualize the data.\n",
        "4. Prepare the data by splitting it into X and y.\n",
        "5. Train a linear regression model.\n",
        "6. Predict the value for 2020.\n",
        "7.  Plot the regression line.\n",
        "8. (Optional) Evaluate the model's performance.\n",
        "\n",
        "\n",
        "\n",
        "\n",
        "\n",
        "\n"
      ],
      "metadata": {
        "id": "zzE54btLg-A-"
      }
    },
    {
      "cell_type": "markdown",
      "source": [
        "# **Predict income for 2020**"
      ],
      "metadata": {
        "id": "Ya-X7B31oOGj"
      }
    },
    {
      "cell_type": "code",
      "source": [
        "years = np.array([1960, 1970, 1980, 1990, 2000, 2010])\n",
        "income = np.array([400, 500, 600, 700, 800, 900])  # Example values, replace with real dataset\n",
        "\n",
        "# Initialize parameters\n",
        "theta_0 = 0\n",
        "theta_1 = 0\n",
        "alpha = 0.01  # Learning rate\n",
        "iterations = 1000\n",
        "m = len(years)"
      ],
      "metadata": {
        "id": "z6d9JQHzg-iy"
      },
      "execution_count": null,
      "outputs": []
    },
    {
      "cell_type": "code",
      "source": [
        "mean_year = np.mean(years)\n",
        "range_year = np.max(years) - np.min(years)\n",
        "years_normalized = (years - mean_year) / range_year\n"
      ],
      "metadata": {
        "id": "XM5XUZqSpT5N"
      },
      "execution_count": null,
      "outputs": []
    },
    {
      "cell_type": "markdown",
      "source": [
        "# **Hypothesis function**"
      ],
      "metadata": {
        "id": "1h3aXc-anfmb"
      }
    },
    {
      "cell_type": "code",
      "source": [
        "def hypothesis(x):\n",
        "    return theta_0 + theta_1 * x\n",
        "\n",
        "# Cost function\n",
        "def compute_cost():\n",
        "    h = hypothesis(years_normalized)\n",
        "    return (1 / (2 * m)) * np.sum((h - income) ** 2)\n",
        "\n",
        "# Gradient Descent\n",
        "def gradient_descent():\n",
        "    global theta_0, theta_1\n",
        "    cost_history = []\n",
        "\n",
        "    for _ in range(iterations):\n",
        "        h = hypothesis(years_normalized)\n",
        "        theta_0 -= alpha * (1 / m) * np.sum(h - income)\n",
        "        theta_1 -= alpha * (1 / m) * np.sum((h - income) * years_normalized)\n",
        "\n",
        "        # Store cost for every iteration to track the improvement\n",
        "        cost_history.append(compute_cost())\n",
        "\n",
        "    return cost_history\n"
      ],
      "metadata": {
        "id": "r0_B717UngCS"
      },
      "execution_count": null,
      "outputs": []
    },
    {
      "cell_type": "code",
      "source": [
        "cost_history = gradient_descent()\n",
        "print(f\"theta_0 (intercept): {theta_0}, theta_1 (slope): {theta_1}\")"
      ],
      "metadata": {
        "id": "u3hwC1J7ppuk"
      },
      "execution_count": null,
      "outputs": []
    },
    {
      "cell_type": "markdown",
      "source": [
        "# **Predict income for 2020**"
      ],
      "metadata": {
        "id": "1V1ZnNxOn0Oq"
      }
    },
    {
      "cell_type": "code",
      "source": [
        "year_2020 = 2020\n",
        "predicted_income_2020 = theta_0 + theta_1 * year_2020\n",
        "print(f\"Predicted income for 2020: {predicted_income_2020}\")"
      ],
      "metadata": {
        "id": "3NYGIRI6n08I"
      },
      "execution_count": null,
      "outputs": []
    },
    {
      "cell_type": "markdown",
      "source": [
        "# **Plot the cost function history**"
      ],
      "metadata": {
        "id": "fgUYyEdhpA7q"
      }
    },
    {
      "cell_type": "code",
      "source": [
        "plt.plot(cost_history)\n",
        "plt.xlabel(\"Iterations\")\n",
        "plt.ylabel(\"Cost\")\n",
        "plt.title(\"Cost Function during Gradient Descent\")\n",
        "plt.show()"
      ],
      "metadata": {
        "id": "UqHCL2JGn_WI"
      },
      "execution_count": null,
      "outputs": []
    },
    {
      "cell_type": "markdown",
      "source": [
        "# **Plot the regression line with the data points**"
      ],
      "metadata": {
        "id": "j2NhMh1_p8S1"
      }
    },
    {
      "cell_type": "code",
      "source": [
        "plt.scatter(years, income, color='red', label='Actual data')\n",
        "predicted_income = theta_0 + theta_1 * years_normalized  # Predicted income\n",
        "plt.plot(years, predicted_income, label='Linear regression', color='blue')\n",
        "plt.xlabel(\"Year\")\n",
        "plt.ylabel(\"Per Capita Income\")\n",
        "plt.title(\"Linear Regression Fit\")\n",
        "plt.legend()\n",
        "plt.show()"
      ],
      "metadata": {
        "id": "DDuhivCVp8wm"
      },
      "execution_count": null,
      "outputs": []
    }
  ]
}